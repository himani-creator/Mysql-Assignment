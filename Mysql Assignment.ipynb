{
 "cells": [
  {
   "cell_type": "code",
   "execution_count": null,
   "id": "bf92bdd7-4a80-490d-9d29-24756ad0bed7",
   "metadata": {},
   "outputs": [],
   "source": [
    "##Q1. What is a database? Differentiate between SQL and NoSQL databases. \n",
    "A database is a collection of structured data or information. It is also defined as computer based data keeping. \n",
    "The different between SQL and NOSQL databases -\n",
    "-SQL database uses structured data while NoSQL uses unstructured data\n",
    "- SQL database uses structured query language, while NOSQL uses key-value data, graph, document etc\n",
    "- SQL database is a relational database while NOSQL database is more flexible than traditional relational database which uses not only sql but graph database, key value databases.\n"
   ]
  },
  {
   "cell_type": "code",
   "execution_count": null,
   "id": "5be78692-df39-4dce-b3dc-b94cd1015fdc",
   "metadata": {},
   "outputs": [],
   "source": [
    "Q2. What is DDL? Explain why CREATE, DROP, ALTER, and TRUNCATE are used with an example.\n",
    "- DDL stands for data definition language. It is similar to computer programing language which are uses to defining database\n",
    "schemas. It consists command like CREATE, DROP, ALTER and TRUNCATE.\n",
    "\n",
    "CREATE - This command is used to create table in database\n",
    "CREATE TABLE table_name{column1 datatype, column2 datatype, column3 datatype};\n",
    "\n",
    "ALTER - This command is used to add, delete or make any changes in the columns of existing table in the database\n",
    "ALTER TABLE table_name \n",
    "ADD column4 datatype;\n",
    "\n",
    "DROP - This command is used to remove an existing table from the database along with its structure.\n",
    "DROP TABLE table_name;\n",
    "\n",
    "TRUNCATE - This command is used to remove rows from the table but structure still exists\n",
    "TRUNCATE TABLE table_name;"
   ]
  },
  {
   "cell_type": "code",
   "execution_count": null,
   "id": "5aecd6df-b2f3-423e-a8ff-713b4823bb92",
   "metadata": {},
   "outputs": [],
   "source": [
    "Q3. What is DML? Explain INSERT, UPDATE, and DELETE with an example.\n",
    "-DML stands for data manipulation language. It consists command like insert, update and delete.\n",
    "\n",
    "INSERT - This command is used to insert any column or data into the existing table. \n",
    "INSERT INTO table_name(column1, column2, column3, column4)\n",
    "Values(value1, value2, value3, value4)\n",
    "\n",
    "UPDATE -This command is used to update any column or data of an exisiting table \n",
    "UPDATE table_name SET column1 = value1 WHERE condition;\n",
    "\n",
    "DELETE - This command is used to delete any data or column within the table. \n",
    "DELETE from table_name WHERE some_condition;"
   ]
  },
  {
   "cell_type": "code",
   "execution_count": null,
   "id": "150ee7c9-0f7c-4081-bfa7-4b1a7d5cbc01",
   "metadata": {},
   "outputs": [],
   "source": [
    "Q4. What is DQL? Explain SELECT with an example.\n",
    "-DQL stands for data query language. We can define DQL as follows it is a component of SQL statement that allows getting \n",
    "data from the database and imposing order upon it. It uses command like - SELECT\n",
    "\n",
    "SELECT - This command retrieve all the information from the database.\n",
    "\n",
    "SELECT * from table_name;\n",
    "or\n",
    "SELECT cloumn1, column2 from table_name;"
   ]
  },
  {
   "cell_type": "code",
   "execution_count": null,
   "id": "66c80d4d-3306-4203-9ec9-8fe2a599403b",
   "metadata": {},
   "outputs": [],
   "source": [
    "Q5. Explain Primary Key and Foreign Key.\n",
    "-Primary key is unique data in the table . It is uniquely defined in the table to identify particular information, whereas \n",
    "foreign key is used to link two tables together."
   ]
  },
  {
   "cell_type": "code",
   "execution_count": null,
   "id": "2adaee27-96d7-40f9-8f3f-e5791fba6429",
   "metadata": {},
   "outputs": [],
   "source": [
    "Q6. Write a python code to connect MySQL to python. Explain the cursor() and execute() method.\n",
    "\n",
    "import mysql.connector\n",
    "mydb = mysql.connector.connect(\n",
    "  host=\"localhost\",\n",
    "  user=\"abc\",\n",
    "  password=\"password\"\n",
    ")\n",
    "print(mydb)\n",
    "mycursor = mydb.cursor()\n",
    "mycursor.execute(\"SHOW DATABASES\")\n",
    "for x in mycursor:\n",
    "  print(x)\n",
    "\n",
    "\n",
    "\n",
    "Cursor() is a temporary memory .It is used to store database tables.\n",
    "execute() is used to display data available in database. "
   ]
  },
  {
   "cell_type": "code",
   "execution_count": null,
   "id": "cf850b43-f2b1-4d81-a65f-a786573793a5",
   "metadata": {},
   "outputs": [],
   "source": [
    "Q7. Give the order of execution of SQL clauses in an SQL query.\n",
    "The order in which the clauses in queries are executed is as follows:\n",
    "\n",
    "1. FROM/JOIN: The FROM and/or JOIN clauses are executed first to determine the data of interest.\n",
    "\n",
    "2. WHERE: The WHERE clause is executed to filter out records that do not meet the constraints.\n",
    "\n",
    "3. GROUP BY: The GROUP BY clause is executed to group the data based on the values in one or more columns.\n",
    "\n",
    "4. HAVING: The HAVING clause is executed to remove the created grouped records that don’t meet the constraints.\n",
    "\n",
    "5. SELECT: The SELECT clause is executed to derive all desired columns and expressions.\n",
    "\n",
    "6. ORDER BY: The ORDER BY clause is executed to sort the derived values in ascending or descending order."
   ]
  }
 ],
 "metadata": {
  "kernelspec": {
   "display_name": "Python 3 (ipykernel)",
   "language": "python",
   "name": "python3"
  },
  "language_info": {
   "codemirror_mode": {
    "name": "ipython",
    "version": 3
   },
   "file_extension": ".py",
   "mimetype": "text/x-python",
   "name": "python",
   "nbconvert_exporter": "python",
   "pygments_lexer": "ipython3",
   "version": "3.10.8"
  }
 },
 "nbformat": 4,
 "nbformat_minor": 5
}
